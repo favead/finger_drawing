{
 "cells": [
  {
   "cell_type": "code",
   "execution_count": 2,
   "metadata": {},
   "outputs": [],
   "source": [
    "import hydra\n",
    "import cv2 as cv\n",
    "import numpy as np\n",
    "\n",
    "from finger_drawing.hand_detection_models import build_hand_detection_model"
   ]
  },
  {
   "cell_type": "code",
   "execution_count": 3,
   "metadata": {},
   "outputs": [
    {
     "name": "stderr",
     "output_type": "stream",
     "text": [
      "INFO: Created TensorFlow Lite XNNPACK delegate for CPU.\n"
     ]
    }
   ],
   "source": [
    "from omegaconf import OmegaConf\n",
    "\n",
    "\n",
    "with hydra.initialize(\"../configs\", version_base=None):\n",
    "    cfg = hydra.compose(\"config\", overrides=[\"model=media_pipe\"])\n",
    "    hdm = build_hand_detection_model(cfg)"
   ]
  },
  {
   "cell_type": "code",
   "execution_count": 5,
   "metadata": {},
   "outputs": [],
   "source": [
    "video_capture = cv.VideoCapture(0)\n",
    "height = int(video_capture.get(cv.CAP_PROP_FRAME_HEIGHT))\n",
    "width = int(video_capture.get(cv.CAP_PROP_FRAME_WIDTH))\n",
    "draw_frame = np.zeros((height, width)).astype(np.uint8)\n",
    "while True:\n",
    "    ret, frame = video_capture.read()\n",
    "    if (not ret) | (cv.waitKey(25) & 0xFF == ord(\"q\")):\n",
    "        break\n",
    "    frame = frame[:, ::-1, :]\n",
    "    landmarks = hdm.get_hand_box(frame[:, ::-1, :])\n",
    "    frame = frame[:, ::-1, :]\n",
    "    for i, landmark in enumerate(landmarks):\n",
    "        if i == 8:\n",
    "            if landmark[0] < 30:\n",
    "                draw_frame = np.zeros((height, width)).astype(np.uint8)\n",
    "            draw_frame = cv.circle(\n",
    "                draw_frame,\n",
    "                tuple(landmark),\n",
    "                4,\n",
    "                color=(255, 255, 255),\n",
    "                thickness=3\n",
    "            )\n",
    "            frame = cv.putText(\n",
    "                frame,\n",
    "                str(i),\n",
    "                tuple(landmark),\n",
    "                fontFace=1,\n",
    "                fontScale=1,\n",
    "                color=(255, 255, 255)\n",
    "            )\n",
    "    cv.imshow(\"Draw\", draw_frame)\n",
    "    cv.imshow(\"Output\", frame)\n",
    "video_capture.release()\n",
    "cv.destroyAllWindows()"
   ]
  }
 ],
 "metadata": {
  "kernelspec": {
   "display_name": ".venv",
   "language": "python",
   "name": "python3"
  },
  "language_info": {
   "codemirror_mode": {
    "name": "ipython",
    "version": 3
   },
   "file_extension": ".py",
   "mimetype": "text/x-python",
   "name": "python",
   "nbconvert_exporter": "python",
   "pygments_lexer": "ipython3",
   "version": "3.10.12"
  },
  "orig_nbformat": 4
 },
 "nbformat": 4,
 "nbformat_minor": 2
}
